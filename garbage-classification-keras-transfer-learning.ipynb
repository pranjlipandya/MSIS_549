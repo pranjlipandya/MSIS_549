{
 "cells": [
  {
   "cell_type": "markdown",
   "metadata": {
    "_cell_guid": "b1076dfc-b9ad-4769-8c92-a6c4dae69d19",
    "_uuid": "8f2839f25d086af736a60e9eeb907d3b93b6e0e5",
    "papermill": {
     "duration": 0.025054,
     "end_time": "2021-02-11T20:31:04.915467",
     "exception": false,
     "start_time": "2021-02-11T20:31:04.890413",
     "status": "completed"
    },
    "tags": []
   },
   "source": [
    "# Garbage Classification using TensorFlow Keras and Transfer Learning"
   ]
  },
  {
   "cell_type": "markdown",
   "metadata": {
    "papermill": {
     "duration": 0.022508,
     "end_time": "2021-02-11T20:31:04.964163",
     "exception": false,
     "start_time": "2021-02-11T20:31:04.941655",
     "status": "completed"
    },
    "tags": []
   },
   "source": [
    "Courtesy of code: https://www.kaggle.com/code/mostafaabla/garbage-classification-keras-transfer-learning?rvi=1"
   ]
  },
  {
   "cell_type": "markdown",
   "metadata": {
    "papermill": {
     "duration": 0.022726,
     "end_time": "2021-02-11T20:31:05.010149",
     "exception": false,
     "start_time": "2021-02-11T20:31:04.987423",
     "status": "completed"
    },
    "tags": []
   },
   "source": [
    "# Import Required Libraries"
   ]
  },
  {
   "cell_type": "code",
   "execution_count": null,
   "metadata": {
    "execution": {
     "iopub.execute_input": "2021-02-11T20:31:05.069000Z",
     "iopub.status.busy": "2021-02-11T20:31:05.068147Z",
     "iopub.status.idle": "2021-02-11T20:31:11.144375Z",
     "shell.execute_reply": "2021-02-11T20:31:11.145113Z"
    },
    "papermill": {
     "duration": 6.111744,
     "end_time": "2021-02-11T20:31:11.145317",
     "exception": false,
     "start_time": "2021-02-11T20:31:05.033573",
     "status": "completed"
    },
    "tags": []
   },
   "outputs": [],
   "source": [
    "import numpy as np\n",
    "import pandas as pd \n",
    "import random\n",
    "import os\n",
    "import matplotlib.pyplot as plt\n",
    "import seaborn as sns\n",
    "import keras.applications.xception as xception\n",
    "import zipfile\n",
    "import sys\n",
    "import time\n",
    "import tensorflow.keras as keras\n",
    "import tensorflow as tf\n",
    "import re\n",
    "\n",
    "from PIL import Image\n",
    "from keras.layers import Input, Conv2D, Dense, Flatten, MaxPooling2D, Input, GlobalAveragePooling2D, Normalization, Dropout, BatchNormalization, Activation\n",
    "from keras.models import Model, Sequential\n",
    "from keras.preprocessing import image\n",
    "from tensorflow.keras.preprocessing.image import ImageDataGenerator\n",
    "from keras.utils import to_categorical\n",
    "from keras.layers import Lambda\n",
    "from keras.callbacks import EarlyStopping\n",
    "from sklearn.model_selection import train_test_split\n",
    "from sklearn.metrics import classification_report\n",
    "from keras.models import Sequential\n",
    "\n",
    "print('setup successful!')"
   ]
  },
  {
   "cell_type": "markdown",
   "metadata": {
    "papermill": {
     "duration": 0.024309,
     "end_time": "2021-02-11T20:31:11.195109",
     "exception": false,
     "start_time": "2021-02-11T20:31:11.170800",
     "status": "completed"
    },
    "tags": []
   },
   "source": [
    "# Define Constants"
   ]
  },
  {
   "cell_type": "code",
   "execution_count": null,
   "metadata": {
    "execution": {
     "iopub.execute_input": "2021-02-11T20:31:11.251089Z",
     "iopub.status.busy": "2021-02-11T20:31:11.250180Z",
     "iopub.status.idle": "2021-02-11T20:31:11.253976Z",
     "shell.execute_reply": "2021-02-11T20:31:11.254625Z"
    },
    "papermill": {
     "duration": 0.035925,
     "end_time": "2021-02-11T20:31:11.254781",
     "exception": false,
     "start_time": "2021-02-11T20:31:11.218856",
     "status": "completed"
    },
    "tags": []
   },
   "outputs": [],
   "source": [
    "# Increasing the image size didn't result in increasing the training accuracy\n",
    "IMAGE_WIDTH = 320    \n",
    "IMAGE_HEIGHT = 320\n",
    "IMAGE_SIZE=(IMAGE_WIDTH, IMAGE_HEIGHT)\n",
    "IMAGE_CHANNELS = 3\n",
    "\n",
    "# Path where our data is located\n",
    "base_path = \"garbage_classification/\"\n",
    "\n",
    "# Dictionary to save our 12 classes\n",
    "categories = {0: 'paper', 1: 'cardboard', 2: 'plastic', 3: 'metal', 4: 'trash', 5: 'battery', 6: 'shoes', 7: 'clothes', 8: 'green-glass', 9: 'brown-glass', 10: 'white-glass', 11: 'biological'}\n",
    "\n",
    "print('defining constants successful!')"
   ]
  },
  {
   "cell_type": "markdown",
   "metadata": {
    "papermill": {
     "duration": 0.023065,
     "end_time": "2021-02-11T20:31:11.302078",
     "exception": false,
     "start_time": "2021-02-11T20:31:11.279013",
     "status": "completed"
    },
    "tags": []
   },
   "source": [
    "# Create DataFrame"
   ]
  },
  {
   "cell_type": "markdown",
   "metadata": {
    "papermill": {
     "duration": 0.023671,
     "end_time": "2021-02-11T20:31:11.349827",
     "exception": false,
     "start_time": "2021-02-11T20:31:11.326156",
     "status": "completed"
    },
    "tags": []
   },
   "source": [
    "We want to create a data frame that has in one column the filenames of all our images and in the other column the corresponding category. \n",
    "We Open the directories in the dataset one by one, save the filenames in the filenames_list and add the corresponding category in the categories_list"
   ]
  },
  {
   "cell_type": "code",
   "execution_count": null,
   "metadata": {
    "execution": {
     "iopub.execute_input": "2021-02-11T20:31:11.408728Z",
     "iopub.status.busy": "2021-02-11T20:31:11.408070Z",
     "iopub.status.idle": "2021-02-11T20:31:15.523520Z",
     "shell.execute_reply": "2021-02-11T20:31:15.524276Z"
    },
    "papermill": {
     "duration": 4.150669,
     "end_time": "2021-02-11T20:31:15.524465",
     "exception": false,
     "start_time": "2021-02-11T20:31:11.373796",
     "status": "completed"
    },
    "tags": []
   },
   "outputs": [],
   "source": [
    "# Add class name prefix to filename. So for example \"/paper104.jpg\" become \"paper/paper104.jpg\"\n",
    "def add_class_name_prefix(df, col_name):\n",
    "    df[col_name] = df[col_name].apply(lambda x: x[:re.search(\"\\d\",x).start()] + '/' + x)\n",
    "    return df\n",
    "\n",
    "# list conatining all the filenames in the dataset\n",
    "filenames_list = []\n",
    "# list to store the corresponding category, note that each folder of the dataset has one class of data\n",
    "categories_list = []\n",
    "\n",
    "for category in categories:\n",
    "    filenames = os.listdir(base_path + categories[category])\n",
    "    \n",
    "    filenames_list = filenames_list  +filenames\n",
    "    categories_list = categories_list + [category] * len(filenames)\n",
    "    \n",
    "df = pd.DataFrame({\n",
    "    'filename': filenames_list,\n",
    "    'category': categories_list\n",
    "})\n",
    "\n",
    "df = add_class_name_prefix(df, 'filename')\n",
    "\n",
    "# Shuffle the dataframe\n",
    "df = df.sample(frac=1).reset_index(drop = True)\n",
    "\n",
    "print('number of elements = ' , len(df))"
   ]
  },
  {
   "cell_type": "code",
   "execution_count": null,
   "metadata": {
    "execution": {
     "iopub.execute_input": "2021-02-11T20:31:15.587866Z",
     "iopub.status.busy": "2021-02-11T20:31:15.587015Z",
     "iopub.status.idle": "2021-02-11T20:31:15.595997Z",
     "shell.execute_reply": "2021-02-11T20:31:15.595466Z"
    },
    "papermill": {
     "duration": 0.045722,
     "end_time": "2021-02-11T20:31:15.596102",
     "exception": false,
     "start_time": "2021-02-11T20:31:15.550380",
     "status": "completed"
    },
    "tags": []
   },
   "outputs": [],
   "source": [
    "df.head()"
   ]
  },
  {
   "cell_type": "code",
   "execution_count": null,
   "metadata": {
    "execution": {
     "iopub.execute_input": "2021-02-11T20:31:15.653252Z",
     "iopub.status.busy": "2021-02-11T20:31:15.652557Z",
     "iopub.status.idle": "2021-02-11T20:31:15.969722Z",
     "shell.execute_reply": "2021-02-11T20:31:15.970268Z"
    },
    "papermill": {
     "duration": 0.349301,
     "end_time": "2021-02-11T20:31:15.970432",
     "exception": false,
     "start_time": "2021-02-11T20:31:15.621131",
     "status": "completed"
    },
    "tags": []
   },
   "outputs": [],
   "source": [
    "# see sample image, you can run the same cell again to get a different image\n",
    "random_row = random.randint(0, len(df)-1)\n",
    "sample = df.iloc[random_row]\n",
    "randomimage = image.load_img(base_path +sample['filename'])\n",
    "print(sample['filename'])\n",
    "plt.imshow(randomimage)"
   ]
  },
  {
   "cell_type": "markdown",
   "metadata": {
    "papermill": {
     "duration": 0.029738,
     "end_time": "2021-02-11T20:31:16.030617",
     "exception": false,
     "start_time": "2021-02-11T20:31:16.000879",
     "status": "completed"
    },
    "tags": []
   },
   "source": [
    "# Viusalize the Categories Distribution"
   ]
  },
  {
   "cell_type": "code",
   "execution_count": null,
   "metadata": {
    "execution": {
     "iopub.execute_input": "2021-02-11T20:31:16.110777Z",
     "iopub.status.busy": "2021-02-11T20:31:16.109933Z",
     "iopub.status.idle": "2021-02-11T20:31:16.311827Z",
     "shell.execute_reply": "2021-02-11T20:31:16.312375Z"
    },
    "papermill": {
     "duration": 0.251652,
     "end_time": "2021-02-11T20:31:16.312553",
     "exception": false,
     "start_time": "2021-02-11T20:31:16.060901",
     "status": "completed"
    },
    "tags": []
   },
   "outputs": [],
   "source": [
    "df_visualization = df.copy()\n",
    "# Change the catgegories from numbers to names\n",
    "df_visualization['category'] = df_visualization['category'].apply(lambda x:categories[x] )\n",
    "\n",
    "df_visualization['category'].value_counts().plot.bar(x = 'count', y = 'category' )\n",
    "\n",
    "plt.xlabel(\"Garbage Classes\", labelpad=14)\n",
    "plt.ylabel(\"Images Count\", labelpad=14)\n",
    "plt.title(\"Count of images per class\", y=1.02);"
   ]
  },
  {
   "cell_type": "markdown",
   "metadata": {
    "papermill": {
     "duration": 0.033412,
     "end_time": "2021-02-11T20:31:16.379075",
     "exception": false,
     "start_time": "2021-02-11T20:31:16.345663",
     "status": "completed"
    },
    "tags": []
   },
   "source": [
    "# Create the model"
   ]
  },
  {
   "cell_type": "markdown",
   "metadata": {
    "papermill": {
     "duration": 0.03117,
     "end_time": "2021-02-11T20:31:16.442381",
     "exception": false,
     "start_time": "2021-02-11T20:31:16.411211",
     "status": "completed"
    },
    "tags": []
   },
   "source": [
    "The steps are:\n",
    "1. Create an xception model without the last layer and load the ImageNet pretrained weights\n",
    "2. Add a pre-processing layer\n",
    "3. Add a pooling layer followed by a softmax layer at the end"
   ]
  },
  {
   "cell_type": "code",
   "execution_count": null,
   "metadata": {
    "execution": {
     "iopub.execute_input": "2021-02-11T20:31:16.516166Z",
     "iopub.status.busy": "2021-02-11T20:31:16.515354Z",
     "iopub.status.idle": "2021-02-11T20:31:23.983771Z",
     "shell.execute_reply": "2021-02-11T20:31:23.983134Z"
    },
    "papermill": {
     "duration": 7.509921,
     "end_time": "2021-02-11T20:31:23.983900",
     "exception": false,
     "start_time": "2021-02-11T20:31:16.473979",
     "status": "completed"
    },
    "tags": []
   },
   "outputs": [],
   "source": [
    "xception_layer = xception.Xception(include_top = False, input_shape = (IMAGE_WIDTH, IMAGE_HEIGHT,IMAGE_CHANNELS), weights = 'imagenet')\n",
    "\n",
    "# We don't want to train the imported weights\n",
    "xception_layer.trainable = False\n",
    "\n",
    "model = Sequential()\n",
    "model.add(keras.Input(shape=(IMAGE_WIDTH, IMAGE_HEIGHT, IMAGE_CHANNELS)))\n",
    "\n",
    "#create a custom layer to apply the preprocessing\n",
    "def xception_preprocessing(img):\n",
    "  return xception.preprocess_input(img)\n",
    "\n",
    "model.add(Lambda(xception_preprocessing))\n",
    "\n",
    "model.add(xception_layer)\n",
    "model.add(tf.keras.layers.GlobalAveragePooling2D())\n",
    "model.add(Dense(len(categories), activation='softmax')) \n",
    "\n",
    "model.compile(loss='categorical_crossentropy', optimizer='adam', metrics=['categorical_accuracy'])\n",
    "\n",
    "model.summary()"
   ]
  },
  {
   "cell_type": "markdown",
   "metadata": {
    "papermill": {
     "duration": 0.033601,
     "end_time": "2021-02-11T20:31:24.051182",
     "exception": false,
     "start_time": "2021-02-11T20:31:24.017581",
     "status": "completed"
    },
    "tags": []
   },
   "source": [
    "We will use the EarlyStopping call back to stop our training if the validation_accuray is not improving for a certain number of epochs."
   ]
  },
  {
   "cell_type": "code",
   "execution_count": null,
   "metadata": {
    "execution": {
     "iopub.execute_input": "2021-02-11T20:31:24.163989Z",
     "iopub.status.busy": "2021-02-11T20:31:24.163161Z",
     "iopub.status.idle": "2021-02-11T20:31:24.168163Z",
     "shell.execute_reply": "2021-02-11T20:31:24.169006Z"
    },
    "papermill": {
     "duration": 0.045082,
     "end_time": "2021-02-11T20:31:24.169191",
     "exception": false,
     "start_time": "2021-02-11T20:31:24.124109",
     "status": "completed"
    },
    "tags": []
   },
   "outputs": [],
   "source": [
    "early_stop = EarlyStopping(patience = 2, verbose = 1, monitor='val_categorical_accuracy' , mode='max', min_delta=0.001, restore_best_weights = True)\n",
    "\n",
    "callbacks = [early_stop]\n",
    "\n",
    "print('call back defined!')"
   ]
  },
  {
   "cell_type": "markdown",
   "metadata": {
    "papermill": {
     "duration": 0.033573,
     "end_time": "2021-02-11T20:31:24.237523",
     "exception": false,
     "start_time": "2021-02-11T20:31:24.203950",
     "status": "completed"
    },
    "tags": []
   },
   "source": [
    "# Split the Data Set"
   ]
  },
  {
   "cell_type": "markdown",
   "metadata": {
    "papermill": {
     "duration": 0.032922,
     "end_time": "2021-02-11T20:31:24.304532",
     "exception": false,
     "start_time": "2021-02-11T20:31:24.271610",
     "status": "completed"
    },
    "tags": []
   },
   "source": [
    "We split the training set into three separate sets:\n",
    "\n",
    "1. **The training set:** used to train our model.\n",
    "1. **The validation set**: used to double check that our model is not overfitting the training set, i.e. it can also generalise to other data other than the train data\n",
    "1. **The Test set:** Used to estimate the accuracy of the model on new data other than the ones the model used for training\n",
    "For a competition  or for some other cases, you can split the data only to training and validation sets in order to achieve the highest  possible accuracy, without the need to properly estimate how accurate the model really is.\n",
    "\n",
    "We split the data set as follows: 80% train set, 10% cross_validation set, and 10% test set"
   ]
  },
  {
   "cell_type": "code",
   "execution_count": null,
   "metadata": {},
   "outputs": [],
   "source": [
    "# df = df.rename(columns={'category': 'category_name'})\n",
    "\n",
    "# df['category_int'] = df[\"category_name\"].map(categories)\n",
    "df['category']=df['category'].astype(str)\n",
    "df.info()"
   ]
  },
  {
   "cell_type": "code",
   "execution_count": null,
   "metadata": {
    "execution": {
     "iopub.execute_input": "2021-02-11T20:31:24.383122Z",
     "iopub.status.busy": "2021-02-11T20:31:24.381978Z",
     "iopub.status.idle": "2021-02-11T20:31:24.399106Z",
     "shell.execute_reply": "2021-02-11T20:31:24.399844Z"
    },
    "papermill": {
     "duration": 0.061194,
     "end_time": "2021-02-11T20:31:24.400027",
     "exception": false,
     "start_time": "2021-02-11T20:31:24.338833",
     "status": "completed"
    },
    "tags": []
   },
   "outputs": [],
   "source": [
    "# We first split the data into two sets and then split the validate_df to two sets\n",
    "train_df, validate_df = train_test_split(df, test_size=0.2, random_state=42)\n",
    "validate_df, test_df = train_test_split(validate_df, test_size=0.5, random_state=42)\n",
    "\n",
    "train_df = train_df.reset_index(drop=True)\n",
    "validate_df = validate_df.reset_index(drop=True)\n",
    "test_df = test_df.reset_index(drop=True)\n",
    "\n",
    "total_train = train_df.shape[0]\n",
    "total_validate = validate_df.shape[0]\n",
    "\n",
    "print('train size = ', total_validate , 'validate size = ', total_validate, 'test size = ', test_df.shape[0])"
   ]
  },
  {
   "cell_type": "code",
   "execution_count": null,
   "metadata": {},
   "outputs": [],
   "source": [
    "train_df['set'] = 1\n",
    "test_df['set'] = 0\n",
    "manifest_df = train_df.append(test_df)\n",
    "manifest_df = manifest_df.reset_index(drop=True)"
   ]
  },
  {
   "cell_type": "markdown",
   "metadata": {
    "papermill": {
     "duration": 0.035464,
     "end_time": "2021-02-11T20:31:24.472100",
     "exception": false,
     "start_time": "2021-02-11T20:31:24.436636",
     "status": "completed"
    },
    "tags": []
   },
   "source": [
    "# Train the model"
   ]
  },
  {
   "cell_type": "markdown",
   "metadata": {
    "papermill": {
     "duration": 0.033432,
     "end_time": "2021-02-11T20:31:24.539653",
     "exception": false,
     "start_time": "2021-02-11T20:31:24.506221",
     "status": "completed"
    },
    "tags": []
   },
   "source": [
    "We will first create the training data generator, that will get the images from the input data directory to train on them. We will also create a generator for the validation set.\n",
    "\n",
    "Applying Data Augmentation on the training set was taking too long to be executed and the initial results didn't show much improvement than the results without augmentation, so I commented the augmentation to make the training faster. However fell free to uncomment the Data Augmentation lines in the following cell and play a bit with it."
   ]
  },
  {
   "cell_type": "code",
   "execution_count": null,
   "metadata": {
    "execution": {
     "iopub.execute_input": "2021-02-11T20:31:24.643893Z",
     "iopub.status.busy": "2021-02-11T20:31:24.638718Z",
     "iopub.status.idle": "2021-02-11T20:31:39.247409Z",
     "shell.execute_reply": "2021-02-11T20:31:39.248258Z"
    },
    "papermill": {
     "duration": 14.675024,
     "end_time": "2021-02-11T20:31:39.248403",
     "exception": false,
     "start_time": "2021-02-11T20:31:24.573379",
     "status": "completed"
    },
    "tags": []
   },
   "outputs": [],
   "source": [
    "batch_size = 64\n",
    "\n",
    "train_datagen = ImageDataGenerator(\n",
    "    \n",
    "    ###  Augmentation Start  ###\n",
    "    \n",
    "    #rotation_range=30,\n",
    "    #shear_range=0.1,\n",
    "    #zoom_range=0.3,\n",
    "    #horizontal_flip=True,\n",
    "    #vertical_flip = True,\n",
    "    #width_shift_range=0.2,\n",
    "    #height_shift_range=0.2\n",
    "    \n",
    "    ##  Augmentation End  ###\n",
    ")\n",
    "\n",
    "train_generator = train_datagen.flow_from_dataframe(\n",
    "    train_df, \n",
    "    base_path, \n",
    "    x_col = 'filename',\n",
    "    y_col = 'category',\n",
    "    target_size = IMAGE_SIZE,\n",
    "    class_mode='categorical',\n",
    "    batch_size = batch_size\n",
    ")"
   ]
  },
  {
   "cell_type": "code",
   "execution_count": null,
   "metadata": {},
   "outputs": [],
   "source": [
    "train_df['category'].unique()"
   ]
  },
  {
   "cell_type": "code",
   "execution_count": null,
   "metadata": {
    "execution": {
     "iopub.execute_input": "2021-02-11T20:31:39.326111Z",
     "iopub.status.busy": "2021-02-11T20:31:39.325320Z",
     "iopub.status.idle": "2021-02-11T20:31:40.978711Z",
     "shell.execute_reply": "2021-02-11T20:31:40.979236Z"
    },
    "papermill": {
     "duration": 1.69855,
     "end_time": "2021-02-11T20:31:40.979394",
     "exception": false,
     "start_time": "2021-02-11T20:31:39.280844",
     "status": "completed"
    },
    "tags": []
   },
   "outputs": [],
   "source": [
    "validation_datagen = ImageDataGenerator()\n",
    "\n",
    "validation_generator = validation_datagen.flow_from_dataframe(\n",
    "    validate_df, \n",
    "    base_path, \n",
    "    x_col='filename',\n",
    "    y_col='category',\n",
    "    target_size=IMAGE_SIZE,\n",
    "    class_mode='categorical',\n",
    "    batch_size=batch_size\n",
    ")"
   ]
  },
  {
   "cell_type": "code",
   "execution_count": null,
   "metadata": {
    "execution": {
     "iopub.execute_input": "2021-02-11T20:31:41.056281Z",
     "iopub.status.busy": "2021-02-11T20:31:41.055573Z",
     "iopub.status.idle": "2021-02-11T20:43:31.253030Z",
     "shell.execute_reply": "2021-02-11T20:43:31.252167Z"
    },
    "papermill": {
     "duration": 710.238601,
     "end_time": "2021-02-11T20:43:31.253188",
     "exception": false,
     "start_time": "2021-02-11T20:31:41.014587",
     "status": "completed"
    },
    "tags": []
   },
   "outputs": [],
   "source": [
    "EPOCHS = 20\n",
    "history = model.fit(\n",
    "    train_generator, \n",
    "    epochs = EPOCHS,\n",
    "    validation_data = validation_generator,\n",
    "    validation_steps = total_validate//batch_size,\n",
    "    steps_per_epoch = total_train//batch_size,\n",
    "    callbacks = callbacks\n",
    ")"
   ]
  },
  {
   "cell_type": "code",
   "execution_count": null,
   "metadata": {},
   "outputs": [],
   "source": [
    "np.save('class_indices.npy', model.train_generator.class_indices)"
   ]
  },
  {
   "cell_type": "code",
   "execution_count": null,
   "metadata": {},
   "outputs": [],
   "source": [
    "model.train_generator.class_indices"
   ]
  },
  {
   "cell_type": "code",
   "execution_count": null,
   "metadata": {
    "execution": {
     "iopub.execute_input": "2021-02-11T20:43:32.250241Z",
     "iopub.status.busy": "2021-02-11T20:43:32.249292Z",
     "iopub.status.idle": "2021-02-11T20:43:32.510318Z",
     "shell.execute_reply": "2021-02-11T20:43:32.509777Z"
    },
    "papermill": {
     "duration": 0.761276,
     "end_time": "2021-02-11T20:43:32.510438",
     "exception": false,
     "start_time": "2021-02-11T20:43:31.749162",
     "status": "completed"
    },
    "tags": []
   },
   "outputs": [],
   "source": [
    "model.save_weights(\"model2.weights.h5\")"
   ]
  },
  {
   "cell_type": "markdown",
   "metadata": {
    "papermill": {
     "duration": 0.499679,
     "end_time": "2021-02-11T20:43:33.507688",
     "exception": false,
     "start_time": "2021-02-11T20:43:33.008009",
     "status": "completed"
    },
    "tags": []
   },
   "source": [
    "# Visualize the training process\n"
   ]
  },
  {
   "cell_type": "code",
   "execution_count": null,
   "metadata": {
    "execution": {
     "iopub.execute_input": "2021-02-11T20:43:34.544981Z",
     "iopub.status.busy": "2021-02-11T20:43:34.544030Z",
     "iopub.status.idle": "2021-02-11T20:43:34.874208Z",
     "shell.execute_reply": "2021-02-11T20:43:34.874747Z"
    },
    "papermill": {
     "duration": 0.835036,
     "end_time": "2021-02-11T20:43:34.874921",
     "exception": false,
     "start_time": "2021-02-11T20:43:34.039885",
     "status": "completed"
    },
    "tags": []
   },
   "outputs": [],
   "source": [
    "fig, (ax1, ax2) = plt.subplots(2, 1)\n",
    "ax1.plot(history.history['loss'], color='b', label=\"Training loss\")\n",
    "ax1.plot(history.history['val_loss'], color='r', label=\"validation loss\")\n",
    "ax1.set_yticks(np.arange(0, 0.7, 0.1))\n",
    "ax1.legend()\n",
    "\n",
    "ax2.plot(history.history['categorical_accuracy'], color='b', label=\"Training accuracy\")\n",
    "ax2.plot(history.history['val_categorical_accuracy'], color='r',label=\"Validation accuracy\")\n",
    "ax2.legend()\n",
    "\n",
    "legend = plt.legend(loc='best')\n",
    "plt.tight_layout()\n",
    "plt.show()"
   ]
  },
  {
   "cell_type": "markdown",
   "metadata": {
    "papermill": {
     "duration": 0.496799,
     "end_time": "2021-02-11T20:43:35.872581",
     "exception": false,
     "start_time": "2021-02-11T20:43:35.375782",
     "status": "completed"
    },
    "tags": []
   },
   "source": [
    "# Evaluate the test"
   ]
  },
  {
   "cell_type": "markdown",
   "metadata": {
    "papermill": {
     "duration": 0.493416,
     "end_time": "2021-02-11T20:43:36.863452",
     "exception": false,
     "start_time": "2021-02-11T20:43:36.370036",
     "status": "completed"
    },
    "tags": []
   },
   "source": [
    "To evaluate the performance of our model we will create a test generator to load the images from the input data directory and evaluate the results."
   ]
  },
  {
   "cell_type": "code",
   "execution_count": null,
   "metadata": {
    "execution": {
     "iopub.execute_input": "2021-02-11T20:43:37.947298Z",
     "iopub.status.busy": "2021-02-11T20:43:37.942897Z",
     "iopub.status.idle": "2021-02-11T20:43:40.190982Z",
     "shell.execute_reply": "2021-02-11T20:43:40.191643Z"
    },
    "papermill": {
     "duration": 2.830765,
     "end_time": "2021-02-11T20:43:40.191839",
     "exception": false,
     "start_time": "2021-02-11T20:43:37.361074",
     "status": "completed"
    },
    "tags": []
   },
   "outputs": [],
   "source": [
    "test_datagen = image.ImageDataGenerator()\n",
    "\n",
    "test_generator = test_datagen.flow_from_dataframe(\n",
    "    dataframe= test_df,\n",
    "    directory=base_path,\n",
    "    x_col='filename',\n",
    "    y_col='category',\n",
    "    target_size=IMAGE_SIZE,\n",
    "    color_mode=\"rgb\",\n",
    "    class_mode=\"categorical\",\n",
    "    batch_size=1,\n",
    "    shuffle=False \n",
    ")"
   ]
  },
  {
   "cell_type": "code",
   "execution_count": null,
   "metadata": {
    "execution": {
     "iopub.execute_input": "2021-02-11T20:43:41.446337Z",
     "iopub.status.busy": "2021-02-11T20:43:41.445068Z",
     "iopub.status.idle": "2021-02-11T20:44:02.018285Z",
     "shell.execute_reply": "2021-02-11T20:44:02.018914Z"
    },
    "papermill": {
     "duration": 21.107171,
     "end_time": "2021-02-11T20:44:02.019100",
     "exception": false,
     "start_time": "2021-02-11T20:43:40.911929",
     "status": "completed"
    },
    "tags": []
   },
   "outputs": [],
   "source": [
    "filenames = test_generator.filenames\n",
    "nb_samples = len(filenames)\n",
    "\n",
    "_, accuracy = model.evaluate_generator(test_generator, nb_samples)\n",
    "\n",
    "print('accuracy on test set = ',  round((accuracy * 100),2 ), '% ') "
   ]
  },
  {
   "cell_type": "markdown",
   "metadata": {
    "papermill": {
     "duration": 0.551399,
     "end_time": "2021-02-11T20:44:03.067758",
     "exception": false,
     "start_time": "2021-02-11T20:44:02.516359",
     "status": "completed"
    },
    "tags": []
   },
   "source": [
    "Great, the accuracy is well over 90% !! (it varies from one run to another due to the random shuffling but is between 94% and 96%) \n",
    "\n",
    "But let's have a look on the F1 score for each of the categories. For that we will be using the classification_report from the sklearn package."
   ]
  },
  {
   "cell_type": "code",
   "execution_count": null,
   "metadata": {
    "execution": {
     "iopub.execute_input": "2021-02-11T20:44:04.230003Z",
     "iopub.status.busy": "2021-02-11T20:44:04.229259Z",
     "iopub.status.idle": "2021-02-11T20:44:04.234331Z",
     "shell.execute_reply": "2021-02-11T20:44:04.233841Z"
    },
    "papermill": {
     "duration": 0.58757,
     "end_time": "2021-02-11T20:44:04.234461",
     "exception": false,
     "start_time": "2021-02-11T20:44:03.646891",
     "status": "completed"
    },
    "tags": []
   },
   "outputs": [],
   "source": [
    "# We defined at the beginning of this notebook a dictionary that maps the categories number to names, but the train generator\n",
    "# generated it's own dictionary and it has assigned different numbers to our categories and the predictions made by the model \n",
    "# will be made using the genrator's dictionary.\n",
    "\n",
    "gen_label_map = test_generator.class_indices\n",
    "gen_label_map = dict((v,k) for k,v in gen_label_map.items())\n",
    "print(gen_label_map)"
   ]
  },
  {
   "cell_type": "code",
   "execution_count": null,
   "metadata": {
    "execution": {
     "iopub.execute_input": "2021-02-11T20:44:05.255019Z",
     "iopub.status.busy": "2021-02-11T20:44:05.254234Z",
     "iopub.status.idle": "2021-02-11T20:44:20.158564Z",
     "shell.execute_reply": "2021-02-11T20:44:20.159227Z"
    },
    "papermill": {
     "duration": 15.403567,
     "end_time": "2021-02-11T20:44:20.159410",
     "exception": false,
     "start_time": "2021-02-11T20:44:04.755843",
     "status": "completed"
    },
    "tags": []
   },
   "outputs": [],
   "source": [
    "# get the model's predictions for the test set\n",
    "preds = model.predict_generator(test_generator, nb_samples)\n",
    "\n",
    "# Get the category with the highest predicted probability, the prediction is only the category's number and not name\n",
    "preds = preds.argmax(1)\n",
    "\n",
    "# Convert the predicted category's number to name \n",
    "preds = [gen_label_map[item] for item in preds]\n",
    "\n",
    "# Convert the pandas dataframe to a numpy matrix\n",
    "labels = test_df['category'].to_numpy()\n",
    "\n",
    "print(classification_report(labels, preds))"
   ]
  },
  {
   "cell_type": "markdown",
   "metadata": {
    "papermill": {
     "duration": 0.493724,
     "end_time": "2021-02-11T20:44:21.143187",
     "exception": false,
     "start_time": "2021-02-11T20:44:20.649463",
     "status": "completed"
    },
    "tags": []
   },
   "source": [
    "The table above shows among other info the F1 score of each category. In the bottom of the F1 score column notice two numbers accuracy and macro avg. Accuracy is the same accuracy that we evaluated above for the test set, it is a weighted average. \n",
    "\n",
    "However the macro avg (unweighted average) is a bit less than accuracy. This is because the clothes category, the category which has by far the largest number of images, has a very high F1 score, so accuracy (the weighted average) is higher than the unweighted average (macro avg).\n",
    "\n",
    "For this problem I would consider the macro avg a better measure of accuracy as it takes an average of all the F1 scores regardless of how much data we have in the training data for each category."
   ]
  }
 ],
 "metadata": {
  "kernelspec": {
   "display_name": "Python 3",
   "language": "python",
   "name": "python3"
  },
  "language_info": {
   "codemirror_mode": {
    "name": "ipython",
    "version": 3
   },
   "file_extension": ".py",
   "mimetype": "text/x-python",
   "name": "python",
   "nbconvert_exporter": "python",
   "pygments_lexer": "ipython3",
   "version": "3.9.6"
  },
  "papermill": {
   "duration": 805.18131,
   "end_time": "2021-02-11T20:44:25.762612",
   "environment_variables": {},
   "exception": null,
   "input_path": "__notebook__.ipynb",
   "output_path": "__notebook__.ipynb",
   "parameters": {},
   "start_time": "2021-02-11T20:31:00.581302",
   "version": "2.1.0"
  }
 },
 "nbformat": 4,
 "nbformat_minor": 4
}
